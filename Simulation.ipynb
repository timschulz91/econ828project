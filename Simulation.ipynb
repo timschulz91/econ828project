{
 "cells": [
  {
   "cell_type": "markdown",
   "metadata": {},
   "source": [
    "# Simulation of the Experiment\n",
    "## Find appropriate income distributions\n",
    "I want to choose payoffs such that all four cases of (insurance, no insurance) $\\times$ (revolt, do nothing) can occurr. <br>\n",
    "That is\n",
    "$$ 0 \\leq \\gamma_3 < \\gamma_1 < \\gamma_2 \\leq 1 $$\n",
    "\n",
    "I'll just brute-force this part."
   ]
  },
  {
   "cell_type": "code",
   "execution_count": 1,
   "metadata": {
    "collapsed": true
   },
   "outputs": [],
   "source": [
    "# define the gamma functions\n",
    "def gamma1(y0n, yfi, y1n):\n",
    "    return (y0n - yfi) / (yfi + y0n - 2*y1n)\n",
    "\n",
    "def gamma2(m, h, li):\n",
    "    return (m - li) / (h - li)\n",
    "\n",
    "def gamma3(m, h, ln):\n",
    "    return (m - ln) / (h - ln)"
   ]
  },
  {
   "cell_type": "code",
   "execution_count": 2,
   "metadata": {
    "collapsed": false
   },
   "outputs": [],
   "source": [
    "import pandas as pd\n",
    "import numpy as np\n",
    "np.random.seed(42)\n",
    "# create a table of randomly generate possible payoff combinations\n",
    "n = 10000\n",
    "table = pd.DataFrame()\n",
    "## generate the lowest possible value (li)\n",
    "table['li'] = np.random.uniform(0, 200, n)\n",
    "## generate next highest (ln)\n",
    "table['ln'] = table.li.apply(lambda x: np.random.uniform(x, 3*x))\n",
    "## Generate risk-free payoff (m)\n",
    "table['m'] = table.ln.apply(lambda x: np.random.uniform(x, 3*x))\n",
    "## generate best case for poor (h)\n",
    "table['h'] = table.m.apply(lambda x: np.random.uniform(x, 3*x))\n",
    "## Generate lowest possible outcome for rich players (y2=0)\n",
    "table['y2'] = 0\n",
    "## generate next highest (y1n)\n",
    "## only restrict it to y1n > m (no condition relative to h)\n",
    "table['y1n'] = table.m.apply(lambda x: np.random.uniform(x, 3*x))\n",
    "## generate next highest (yfi)\n",
    "table['yfi'] = table.y1n.apply(lambda x: np.random.uniform(x, 5*x))\n",
    "## generate best possible outcome for rich (y0n)\n",
    "table['y0n'] = table.yfi.apply(lambda x: np.random.uniform(x, 2*x))\n",
    "\n",
    "# calculate the corresponding gamma values\n",
    "table['g1'] = table.apply(lambda x: gamma1(y0n=x['y0n'], yfi=x['yfi'], y1n=x['y1n']), axis=1)\n",
    "table['g2'] = table.apply(lambda x: gamma2(m=x['m'], h=x['h'], li=x['li']), axis=1)\n",
    "table['g3'] = table.apply(lambda x: gamma3(m=x['m'], h=x['h'], ln=x['ln']), axis=1)"
   ]
  },
  {
   "cell_type": "markdown",
   "metadata": {},
   "source": [
    "Identify cases derived in section 3.3 of the paper.\n",
    "\n",
    "Case 1: $0 \\leq \\gamma_3 < \\gamma_1 < \\gamma_2 \\leq 1$ <br>\n",
    "Case 2: $0 \\leq \\gamma_3 < \\gamma_2 < \\gamma_1 \\leq 1$ <br>\n",
    "Case 3: $0 \\leq \\gamma_2 < \\gamma_3 < \\gamma_1 \\leq 1$ <br>\n",
    "Case 4: $0 \\leq \\gamma_1 < \\gamma_3 < \\gamma_2 \\leq 1$ <br>\n",
    "Case 5: $0 \\leq \\gamma_1 < \\gamma_2 < \\gamma_3 \\leq 1$ <br>\n",
    "Case 6: $0 \\leq \\gamma_2 < \\gamma_1 < \\gamma_3 \\leq 1$\n",
    "\n",
    "Function to do just that:"
   ]
  },
  {
   "cell_type": "code",
   "execution_count": 3,
   "metadata": {
    "collapsed": false
   },
   "outputs": [],
   "source": [
    "def IDcase(g1, g2, g3):\n",
    "    if 0 < g3 < g1 < g2 < 1: case = 1\n",
    "    elif 0 < g3 < g2 < g1 < 1: case = 2\n",
    "    elif 0 < g2 < g3 < g1 < 1: case = 3\n",
    "    elif 0 < g1 < g3 < g2 < 1: case = 4\n",
    "    elif 0 < g1 < g2 < g3 < 1: case = 5\n",
    "    elif 0 < g2 < g1 < g3 < 1: case = 6\n",
    "    else: case = 7\n",
    "    return case\n",
    "\n",
    "# apply to table\n",
    "table['case'] = table.apply(lambda x: IDcase(x['g1'], x['g2'], x['g3']), axis=1)\n",
    "\n",
    "# single out case 1 results\n",
    "case1 = table[table.case==1]"
   ]
  },
  {
   "cell_type": "markdown",
   "metadata": {},
   "source": [
    "By manual inspection, some interesting cases might be\n",
    "\n",
    "| $l_i$  | $l_n$  |  $m$   |   $h$  |$y_{1n}$|$y_{fi}$|$y_{0n}$|\n",
    "|--------|--------|--------|--------|--------|--------|--------|\n",
    "|   75   |   130  |  320   |  730   |  515   |  2250  |  3900  |\n",
    "|  160   |   260  |  620   |  1660  |  1650  |  1920  |  2120  |\n",
    "|    1   |    3   |   5    |   13   |  14    |   67   |   108  |\n",
    "|  170   |  470   |  880   |  1680  |  2100  |  9100  |  17130 |\n",
    "|  130   |  280   |  440   |   750  |   490  |  1100  |  1820  |"
   ]
  },
  {
   "cell_type": "markdown",
   "metadata": {},
   "source": [
    "## Simulation\n",
    "Simulation using 9 players (3 rich, 6 poor) who are randomly assigned into groups. Each player refines beliefs based on past experiences. At the beginning of each period, a random number is drawn that signals the degree of inequality ($d$)."
   ]
  },
  {
   "cell_type": "code",
   "execution_count": 4,
   "metadata": {
    "collapsed": false
   },
   "outputs": [],
   "source": [
    "from statsmodels.formula.api import ols\n",
    "from sklearn.ensemble import RandomForestClassifier\n",
    "\n",
    "class PoorPlayer:\n",
    "    \"\"\"\n",
    "    A poor player. Each player has a certain degree of inequality aversion (ia)\n",
    "    \"\"\"\n",
    "    def __init__(self):\n",
    "        \"Each poor person has some (slightly) positive level of ia\"\n",
    "        self.ia = np.random.uniform(0, 1)\n",
    "        # an object to store past events. `outcome` is the number of poor revolting\n",
    "        self.history = pd.DataFrame(columns=['revolt', 'd', 'insurance', 'other_revolt'])\n",
    "    \n",
    "    def form_belief(self, d, gamma1, gamma2, gamma3):\n",
    "        \"Update beliefs based on past observations after observing d\"\n",
    "        self.d = d\n",
    "        # after some periods\n",
    "        if self.history.shape[0] > 10:\n",
    "            belief = RandomForestClassifier()\n",
    "            # predict whether the other revolts\n",
    "            # based on prediction about insurance and observed inequality\n",
    "            ## first predict whether insurance will be bought\n",
    "            belief_rich = belief.fit(self.history.d.reshape(-1, 1), \n",
    "                                     self.history.insurance)\n",
    "            guess_rich = int(belief_rich.predict(d))\n",
    "            ## predict the behaviour of the other poor player based on this guess\n",
    "            # belief_poor = belief.fit(self.history[['d', 'insurance']],\n",
    "            #                          self.history.other_revolt)\n",
    "            # revolt = int(belief_poor.predict(np.array([d, guess_rich]).reshape(1,-1)))\n",
    "            belief_poor = ols('other_revolt ~ d', self.history).fit()\n",
    "            guess_poor = belief_poor.predict(pd.DataFrame([d], columns=['d']))\n",
    "            if guess_poor > gamma1:\n",
    "                revolt = 1 if guess_poor > gamma2 else 0\n",
    "            else:\n",
    "                revolt = 1 if guess_poor > gamma3 else 0\n",
    "            guess_poor = float(guess_poor)\n",
    "            # make sure the guess is in [0,1]\n",
    "            guess_poor = max(0, min(guess_poor, 1))\n",
    "            revolt = np.random.choice([1,0], 1, p=[guess_poor, 1-guess_poor])\n",
    "            self.revolt = int(revolt)\n",
    "        else: # beginning of the simulation\n",
    "            self.revolt = 1 if d > self.ia else 0 # kind of random\n",
    "    \n",
    "    def update_history(self, insurance, outcome):\n",
    "        \"Update the history with information on what the other player did\"\n",
    "        other_revolt = outcome - self.revolt\n",
    "        self.history = self.history.append(pd.DataFrame([[self.revolt, self.d, insurance,\n",
    "                                                          other_revolt]],\n",
    "                                                        columns=['revolt', 'd', 'insurance',\n",
    "                                                                 'other_revolt']))\n",
    "\n",
    "class RichPlayer:\n",
    "    \"\"\"\n",
    "    A rich player. \n",
    "    \"\"\"\n",
    "    def __init__(self):\n",
    "        # an object to store past events. `outcome` is the number of poor revolting\n",
    "        self.history = pd.DataFrame(columns=['insurance', 'd', 'revolution'])\n",
    "        \n",
    "    def form_belief(self, d, gamma1):\n",
    "        \"Form belief based about the probability of observing more than 0 revolutionaries\"\n",
    "        self.d = d\n",
    "        if self.history.shape[0] > 0:\n",
    "            # learn (random forest) from past events\n",
    "            # belief = RandomForestClassifier()\n",
    "            # belief = belief.fit(rich1.history.d.reshape(-1, 1),\n",
    "            #                     rich1.history.revolution)\n",
    "            belief = ols('revolution ~ d', self.history).fit()\n",
    "            # guess whether there will be an (attempted) revolution\n",
    "            # guess = belief.predict(d)\n",
    "            guess = belief.predict(pd.DataFrame([d], columns=['d']))\n",
    "            # buy insurance based on own that guess\n",
    "            self.insurance = 1 if int(guess) > gamma1 else 0\n",
    "        else: # beginning of the simulation\n",
    "            self.insurance = 1 if d > .5 else 0 # kind of random\n",
    "        \n",
    "    def update_history(self, outcome):\n",
    "        \"Update history with info on whether anyone attempted a revolution\"\n",
    "        revolution = 1 if outcome>0 else 0\n",
    "        self.history = self.history.append(pd.DataFrame([[self.insurance, self.d,\n",
    "                                                          revolution]],\n",
    "                                                        columns=['insurance', 'd',\n",
    "                                                                 'revolution']))"
   ]
  },
  {
   "cell_type": "code",
   "execution_count": 5,
   "metadata": {
    "collapsed": false
   },
   "outputs": [],
   "source": [
    "# Simulation\n",
    "from random import sample, shuffle, seed\n",
    "seed(42)\n",
    "np.random.seed(42)\n",
    "\n",
    "# specify the number of simulations\n",
    "nsim = 500\n",
    "# specify the number of groups\n",
    "ngroup = 10\n",
    "# create the poor players\n",
    "poor = [PoorPlayer() for i in range(2*ngroup)]\n",
    "# create the rich players\n",
    "rich = [RichPlayer() for i in range(ngroup)]\n",
    "\n",
    "for i in range(nsim):\n",
    "    # draw a payoff distribution from the case1 table\n",
    "    payoffs = case1.iloc[sample(range(case1.shape[0]), 1), :]\n",
    "    # calculate some coefficient of inequality\n",
    "    # outcome if maintain status quo\n",
    "    coef = 1 - float(payoffs['m'] / payoffs['y0n'])\n",
    "    # get gammas\n",
    "    gamma1 = float(payoffs['g1'])\n",
    "    gamma2 = float(payoffs['g2'])\n",
    "    gamma3 = float(payoffs['g3'])\n",
    "    # shuffle the groups\n",
    "    shuffle(poor)\n",
    "    shuffle(rich)\n",
    "    # pair two poor and one rich person and let them play the game\n",
    "    for group in range(ngroup):\n",
    "        # form the beliefs after observing inequality `coef`\n",
    "        poor[group].form_belief(coef, gamma1, gamma2, gamma3)\n",
    "        poor[ngroup+group].form_belief(coef, gamma1, gamma2, gamma3)\n",
    "        rich[group].form_belief(coef, gamma1)\n",
    "        # find out if there was a revolution\n",
    "        outcome = poor[group].revolt + poor[ngroup+group].revolt\n",
    "        # find out if insurance was purchased\n",
    "        insurance = rich[group].insurance\n",
    "        # inform everybody about what happened\n",
    "        poor[group].update_history(insurance, outcome)\n",
    "        poor[ngroup+group].update_history(insurance, outcome)\n",
    "        rich[group].update_history(outcome)\n",
    "        "
   ]
  },
  {
   "cell_type": "code",
   "execution_count": 6,
   "metadata": {
    "collapsed": false
   },
   "outputs": [],
   "source": [
    "# extract and aggregate results\n",
    "resultdf = pd.DataFrame()\n",
    "for i, p in enumerate(poor):\n",
    "    new = p.history\n",
    "    new['ID'] = i\n",
    "    resultdf = resultdf.append(new)\n",
    "\n",
    "# Group by levels of inequality\n",
    "levels = np.linspace(0, 1, 21)\n",
    "\n",
    "levelmeans = [np.mean(resultdf[(float(lower) < resultdf.d) &\n",
    "                               (resultdf.d < levels[i+1])].revolt)\n",
    "              for i, lower in enumerate(levels[:-1])]"
   ]
  },
  {
   "cell_type": "code",
   "execution_count": 7,
   "metadata": {
    "collapsed": false
   },
   "outputs": [
    {
     "data": {
      "image/png": "[encoded data removed]",
      "text/plain": [
       "<matplotlib.figure.Figure at 0x7f400837c940>"
      ]
     },
     "metadata": {},
     "output_type": "display_data"
    }
   ],
   "source": [
    "import matplotlib.pyplot as plt\n",
    "%matplotlib inline\n",
    "plt.plot(levels[1:], levelmeans)\n",
    "plt.title('Frequency of revolts \\n as a function of observed inequality $d$')\n",
    "plt.ylabel(r'$\\gamma$')\n",
    "plt.xlabel('$d$')\n",
    "plt.savefig('graph.png', bbox_inches='tight', dpi=1000)\n",
    "plt.show()"
   ]
  }
 ],
 "metadata": {
  "kernelspec": {
   "display_name": "Python 3",
   "language": "python",
   "name": "python3"
  },
  "language_info": {
   "codemirror_mode": {
    "name": "ipython",
    "version": 3
   },
   "file_extension": ".py",
   "mimetype": "text/x-python",
   "name": "python",
   "nbconvert_exporter": "python",
   "pygments_lexer": "ipython3",
   "version": "3.5.2"
  }
 },
 "nbformat": 4,
 "nbformat_minor": 0
}
